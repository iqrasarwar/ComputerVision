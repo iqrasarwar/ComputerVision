{
  "nbformat": 4,
  "nbformat_minor": 0,
  "metadata": {
    "colab": {
      "name": "kernels&co.ipynb",
      "provenance": [],
      "authorship_tag": "ABX9TyM5+Jb1XERXEI2FZe1/vFTk",
      "include_colab_link": true
    },
    "kernelspec": {
      "name": "python3",
      "display_name": "Python 3"
    },
    "language_info": {
      "name": "python"
    }
  },
  "cells": [
    {
      "cell_type": "markdown",
      "metadata": {
        "id": "view-in-github",
        "colab_type": "text"
      },
      "source": [
        "<a href=\"https://colab.research.google.com/github/iqrasarwar/ComputerVision/blob/main/kernels%26co.ipynb\" target=\"_parent\"><img src=\"https://colab.research.google.com/assets/colab-badge.svg\" alt=\"Open In Colab\"/></a>"
      ]
    },
    {
      "cell_type": "code",
      "execution_count": 1,
      "metadata": {
        "id": "3J5duidR2SxO"
      },
      "outputs": [],
      "source": [
        "import numpy as np"
      ]
    },
    {
      "cell_type": "code",
      "source": [
        "rr = np.array([[3060.0,3080,3390],\n",
        "      [3450,3620,3740],\n",
        "      [3720,3870,4060]])\n",
        "x = rr.min()\n",
        "y = rr.max()\n",
        "for i in range(3):\n",
        "  for j in range(3):\n",
        "    rr[i,j] = (rr[i][j]-x)*255.0/(y-x)\n",
        "print(rr)\n",
        "norm = np.linalg.norm(rr)\n",
        "normal_array = rr/norm\n",
        "print(normal_array)"
      ],
      "metadata": {
        "colab": {
          "base_uri": "https://localhost:8080/"
        },
        "id": "kp4lFsD_2Zzw",
        "outputId": "0a7fe31c-6257-4285-c142-e0e4a67beb53"
      },
      "execution_count": 8,
      "outputs": [
        {
          "output_type": "stream",
          "name": "stdout",
          "text": [
            "[[  0.     5.1   84.15]\n",
            " [ 99.45 142.8  173.4 ]\n",
            " [168.3  206.55 255.  ]]\n",
            "[[0.         0.01130629 0.18655385]\n",
            " [0.22047273 0.31657623 0.384414  ]\n",
            " [0.3731077  0.45790491 0.5653147 ]]\n"
          ]
        }
      ]
    },
    {
      "cell_type": "code",
      "source": [
        ""
      ],
      "metadata": {
        "id": "-1qr7oDr3P8E"
      },
      "execution_count": null,
      "outputs": []
    }
  ]
}