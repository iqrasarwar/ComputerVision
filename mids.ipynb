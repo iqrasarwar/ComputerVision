{
  "nbformat": 4,
  "nbformat_minor": 0,
  "metadata": {
    "colab": {
      "name": "mids.ipynb",
      "provenance": [],
      "mount_file_id": "1EO2o5WtViIznaO4v45seCcVq7JSvZAdu",
      "authorship_tag": "ABX9TyMpNJBCNdoLKzLsQMCPXo5+",
      "include_colab_link": true
    },
    "kernelspec": {
      "name": "python3",
      "display_name": "Python 3"
    },
    "language_info": {
      "name": "python"
    }
  },
  "cells": [
    {
      "cell_type": "markdown",
      "metadata": {
        "id": "view-in-github",
        "colab_type": "text"
      },
      "source": [
        "<a href=\"https://colab.research.google.com/github/iqrasarwar/ComputerVision/blob/main/mids.ipynb\" target=\"_parent\"><img src=\"https://colab.research.google.com/assets/colab-badge.svg\" alt=\"Open In Colab\"/></a>"
      ]
    },
    {
      "cell_type": "code",
      "execution_count": 7,
      "metadata": {
        "colab": {
          "base_uri": "https://localhost:8080/"
        },
        "id": "ADyUerjxd5fy",
        "outputId": "a4ba619a-24e8-4e44-b983-2b007271ec6e"
      },
      "outputs": [
        {
          "output_type": "stream",
          "name": "stdout",
          "text": [
            "Array is of type:  <class 'numpy.ndarray'>\n",
            "No. of dimensions:  1\n",
            "Shape of array:  (5,)\n",
            "Size of array:  5\n",
            "Array stores elements of type:  <U32\n"
          ]
        }
      ],
      "source": [
        "import numpy as np\n",
        "arr = np.array([7,2,9.9,True,'s'])\n",
        "\n",
        "# Printing type of arr object\n",
        "print(\"Array is of type: \", type(arr))\n",
        " \n",
        "# Printing array dimensions (axes)\n",
        "print(\"No. of dimensions: \", arr.ndim)\n",
        " \n",
        "# Printing shape of array\n",
        "print(\"Shape of array: \", arr.shape)\n",
        " \n",
        "# Printing size (total number of elements) of array\n",
        "print(\"Size of array: \", arr.size)\n",
        " \n",
        "# Printing type of elements in array\n",
        "print(\"Array stores elements of type: \", arr.dtype)"
      ]
    },
    {
      "cell_type": "code",
      "source": [
        "rr_constant = np.full((2,2), 5)  # Create a constant array\n",
        "print(rr_constant)    \n",
        "rr_constant[0][0] = 0\n",
        "print(rr_constant) \n",
        "rr_constant = np.full((3,3),6)\n",
        "print(rr_constant) "
      ],
      "metadata": {
        "colab": {
          "base_uri": "https://localhost:8080/"
        },
        "id": "ipfR-fEveFCg",
        "outputId": "a9e6a994-698f-4277-9f8a-2cd2e7052fed"
      },
      "execution_count": 15,
      "outputs": [
        {
          "output_type": "stream",
          "name": "stdout",
          "text": [
            "[[5 5]\n",
            " [5 5]]\n",
            "[[0 5]\n",
            " [5 5]]\n",
            "[[6 6 6]\n",
            " [6 6 6]\n",
            " [6 6 6]]\n"
          ]
        }
      ]
    },
    {
      "cell_type": "code",
      "source": [
        "arr_of_ones = np.zeros((3,3))+2   # Create an array of all ones\n",
        "print(arr_of_ones)   \n",
        "arr_of_ones[0][0] = 0\n",
        "print(arr_of_ones) "
      ],
      "metadata": {
        "colab": {
          "base_uri": "https://localhost:8080/"
        },
        "id": "Nunl-ZfAe_cy",
        "outputId": "c507739e-b28e-43da-f40a-c7f7eb001262"
      },
      "execution_count": 13,
      "outputs": [
        {
          "output_type": "stream",
          "name": "stdout",
          "text": [
            "[[2. 2. 2.]\n",
            " [2. 2. 2.]\n",
            " [2. 2. 2.]]\n",
            "[[0. 2. 2.]\n",
            " [2. 2. 2.]\n",
            " [2. 2. 2.]]\n"
          ]
        }
      ]
    },
    {
      "cell_type": "code",
      "source": [
        "identity_matrix = np.eye(10)         # Create a 3x3 of identity matrix\n",
        "print(identity_matrix)  "
      ],
      "metadata": {
        "colab": {
          "base_uri": "https://localhost:8080/"
        },
        "id": "UfFjSCbKfPTX",
        "outputId": "ec7be4f1-7cbd-48cc-d71a-075b0f0f552f"
      },
      "execution_count": 17,
      "outputs": [
        {
          "output_type": "stream",
          "name": "stdout",
          "text": [
            "[[1. 0. 0. 0. 0. 0. 0. 0. 0. 0.]\n",
            " [0. 1. 0. 0. 0. 0. 0. 0. 0. 0.]\n",
            " [0. 0. 1. 0. 0. 0. 0. 0. 0. 0.]\n",
            " [0. 0. 0. 1. 0. 0. 0. 0. 0. 0.]\n",
            " [0. 0. 0. 0. 1. 0. 0. 0. 0. 0.]\n",
            " [0. 0. 0. 0. 0. 1. 0. 0. 0. 0.]\n",
            " [0. 0. 0. 0. 0. 0. 1. 0. 0. 0.]\n",
            " [0. 0. 0. 0. 0. 0. 0. 1. 0. 0.]\n",
            " [0. 0. 0. 0. 0. 0. 0. 0. 1. 0.]\n",
            " [0. 0. 0. 0. 0. 0. 0. 0. 0. 1.]]\n"
          ]
        }
      ]
    },
    {
      "cell_type": "code",
      "source": [
        "random_arr = np.random.random((3,3))  # Create an array filled with random values\n",
        "print(random_arr)     "
      ],
      "metadata": {
        "colab": {
          "base_uri": "https://localhost:8080/"
        },
        "id": "LhmaZr-ojPCY",
        "outputId": "1ab5c2a3-ec0d-40c4-d461-46ff4535b211"
      },
      "execution_count": 18,
      "outputs": [
        {
          "output_type": "stream",
          "name": "stdout",
          "text": [
            "[[0.41675107 0.3047007  0.28589301]\n",
            " [0.54258585 0.04693406 0.98004828]\n",
            " [0.325236   0.21035454 0.47851547]]\n"
          ]
        }
      ]
    },
    {
      "cell_type": "code",
      "source": [
        "x = np.array([[4,9,16],\n",
        "              [4,9,16]])\n",
        "\n",
        "y = np.array([[4,9,16],\n",
        "              [7,10,16]])\n",
        "\n",
        "print(x + y) # Elementwise sum; both produce the array\n",
        "print(np.add(x, y))\n",
        "\n",
        "print(x - y) # Elementwise difference; both produce the array\n",
        "print(np.subtract(x, y))\n",
        "\n",
        "print(x * y) # Elementwise product; both produce the array\n",
        "print(np.multiply(x, y))\n",
        "\n",
        "print(x / y) # Elementwise division; both produce the array\n",
        "print(np.divide(x, y))\n",
        "\n",
        "print(np.sqrt(x)) # Elementwise square root; produces the array"
      ],
      "metadata": {
        "colab": {
          "base_uri": "https://localhost:8080/"
        },
        "id": "Ugso-ZyzjV8z",
        "outputId": "85580c8a-02be-49be-d8b5-8c4444be1c26"
      },
      "execution_count": 22,
      "outputs": [
        {
          "output_type": "stream",
          "name": "stdout",
          "text": [
            "[[ 8 18 32]\n",
            " [11 19 32]]\n",
            "[[ 8 18 32]\n",
            " [11 19 32]]\n",
            "[[ 0  0  0]\n",
            " [-3 -1  0]]\n",
            "[[ 0  0  0]\n",
            " [-3 -1  0]]\n",
            "[[ 16  81 256]\n",
            " [ 28  90 256]]\n",
            "[[ 16  81 256]\n",
            " [ 28  90 256]]\n",
            "[[1.         1.         1.        ]\n",
            " [0.57142857 0.9        1.        ]]\n",
            "[[1.         1.         1.        ]\n",
            " [0.57142857 0.9        1.        ]]\n",
            "[[2. 3. 4.]\n",
            " [2. 3. 4.]]\n"
          ]
        }
      ]
    },
    {
      "cell_type": "code",
      "source": [
        "mu = 0.5\n",
        "sigma = 0.5\n",
        "\n",
        "rand_normal_arr1 = np.random.normal(mu, sigma, size=(4,4)) # generate random numbers with mean 0.5 and sigma 1\n",
        "print(rand_normal_arr1)"
      ],
      "metadata": {
        "colab": {
          "base_uri": "https://localhost:8080/"
        },
        "id": "Vy1PC7KXj87J",
        "outputId": "db1fe03e-1fed-4590-b61b-22334b09c73f"
      },
      "execution_count": 23,
      "outputs": [
        {
          "output_type": "stream",
          "name": "stdout",
          "text": [
            "[[ 0.22865894 -0.153394    0.47747444  1.17174272]\n",
            " [-0.00615774  0.015736    0.7379172   0.33684553]\n",
            " [ 0.64792009  1.70027533  0.29704635  0.33536745]\n",
            " [ 1.04716337 -0.38651547  0.94831007  0.49092201]]\n"
          ]
        }
      ]
    },
    {
      "cell_type": "code",
      "source": [
        "rand_normal_arr = np.random.normal(size=(4,)) # random numbers from normal distribution\n",
        "print(rand_normal_arr)"
      ],
      "metadata": {
        "colab": {
          "base_uri": "https://localhost:8080/"
        },
        "id": "ugd1dta7pDfr",
        "outputId": "1365f38e-d96d-4b91-efe9-3f0204c7a619"
      },
      "execution_count": 26,
      "outputs": [
        {
          "output_type": "stream",
          "name": "stdout",
          "text": [
            "[-0.64917248 -1.3505472  -0.75643245  0.36747665]\n"
          ]
        }
      ]
    },
    {
      "cell_type": "code",
      "source": [
        "print(np.random.randint(1, [3, 5, 10]))"
      ],
      "metadata": {
        "colab": {
          "base_uri": "https://localhost:8080/"
        },
        "id": "UJ_ZEo5BpHHf",
        "outputId": "a9d2d78f-80b9-4d98-fa99-779b8eafc73a"
      },
      "execution_count": 28,
      "outputs": [
        {
          "output_type": "stream",
          "name": "stdout",
          "text": [
            "[1 3 5]\n"
          ]
        }
      ]
    },
    {
      "cell_type": "code",
      "source": [
        "np.random.randint([1, 5, 7], 10)"
      ],
      "metadata": {
        "colab": {
          "base_uri": "https://localhost:8080/"
        },
        "id": "RaFTVFPjp5VH",
        "outputId": "61fa1a28-0c6c-47b9-8351-44bf358fd396"
      },
      "execution_count": 31,
      "outputs": [
        {
          "output_type": "execute_result",
          "data": {
            "text/plain": [
              "array([4, 9, 7])"
            ]
          },
          "metadata": {},
          "execution_count": 31
        }
      ]
    },
    {
      "cell_type": "code",
      "source": [
        "np.random.randint(5, size=(2, 4))"
      ],
      "metadata": {
        "colab": {
          "base_uri": "https://localhost:8080/"
        },
        "id": "T0dyp75Xp9Zz",
        "outputId": "61782ba2-a069-4ce3-9d16-33386ef31045"
      },
      "execution_count": 32,
      "outputs": [
        {
          "output_type": "execute_result",
          "data": {
            "text/plain": [
              "array([[1, 2, 4, 2],\n",
              "       [4, 3, 3, 3]])"
            ]
          },
          "metadata": {},
          "execution_count": 32
        }
      ]
    },
    {
      "cell_type": "code",
      "source": [
        "import cv2 as cv\n",
        "import matplotlib.pylab as plt"
      ],
      "metadata": {
        "id": "YP3TZbSFqG9S"
      },
      "execution_count": 33,
      "outputs": []
    },
    {
      "cell_type": "code",
      "source": [
        "im = plt.imread(\"/content/drive/MyDrive/ComputerVisionCoLabFiles/cat.jfif\")\n",
        "\n",
        "#to display the images\n",
        "plt.imshow(im)"
      ],
      "metadata": {
        "colab": {
          "base_uri": "https://localhost:8080/",
          "height": 286
        },
        "id": "GP4EqPr11Geb",
        "outputId": "ec017ff7-cc00-42ff-8633-de240285f610"
      },
      "execution_count": 34,
      "outputs": [
        {
          "output_type": "execute_result",
          "data": {
            "text/plain": [
              "<matplotlib.image.AxesImage at 0x7fe0a3d85ad0>"
            ]
          },
          "metadata": {},
          "execution_count": 34
        },
        {
          "output_type": "display_data",
          "data": {
            "text/plain": [
              "<Figure size 432x288 with 1 Axes>"
            ],
            "image/png": "[encoded data removed]"
          },
          "metadata": {
            "needs_background": "light"
          }
        }
      ]
    },
    {
      "cell_type": "code",
      "source": [
        "print(im[20, 20])\n",
        "print(im[20, 20,:])\n",
        "x,y=im.shape[0],im.shape[1]"
      ],
      "metadata": {
        "colab": {
          "base_uri": "https://localhost:8080/"
        },
        "id": "sOLHFZzn1Ll-",
        "outputId": "7dac1b4e-f475-4567-9e45-cf95b1d0e8db"
      },
      "execution_count": 39,
      "outputs": [
        {
          "output_type": "stream",
          "name": "stdout",
          "text": [
            "[10  0  1]\n",
            "[10  0  1]\n"
          ]
        }
      ]
    },
    {
      "cell_type": "code",
      "source": [
        "red_channel = im[:,:,0]\n",
        "print(red_channel.shape)\n",
        "print(red_channel)"
      ],
      "metadata": {
        "colab": {
          "base_uri": "https://localhost:8080/"
        },
        "id": "U5X26HdF1WUi",
        "outputId": "b945854b-725f-4051-c527-8e1bafc57b35"
      },
      "execution_count": 40,
      "outputs": [
        {
          "output_type": "stream",
          "name": "stdout",
          "text": [
            "(230, 219)\n",
            "[[ 4  4  4 ...  9  9  9]\n",
            " [ 4  4  4 ...  9  9  9]\n",
            " [ 4  4  4 ...  9  9  9]\n",
            " ...\n",
            " [68 62 47 ... 37 29 20]\n",
            " [74 63 43 ... 44 33 20]\n",
            " [76 62 39 ... 52 36 19]]\n"
          ]
        }
      ]
    },
    {
      "cell_type": "code",
      "source": [
        "b = np.zeros((230,219,3))\n",
        "b[:,:,0] =red_channel\n",
        "print(b)"
      ],
      "metadata": {
        "colab": {
          "base_uri": "https://localhost:8080/"
        },
        "id": "YGIbs5bg2AR4",
        "outputId": "b19619ae-f4ce-411c-90ad-8c702e49cd4f"
      },
      "execution_count": 44,
      "outputs": [
        {
          "output_type": "stream",
          "name": "stdout",
          "text": [
            "[[[ 4.  0.  0.]\n",
            "  [ 4.  0.  0.]\n",
            "  [ 4.  0.  0.]\n",
            "  ...\n",
            "  [ 9.  0.  0.]\n",
            "  [ 9.  0.  0.]\n",
            "  [ 9.  0.  0.]]\n",
            "\n",
            " [[ 4.  0.  0.]\n",
            "  [ 4.  0.  0.]\n",
            "  [ 4.  0.  0.]\n",
            "  ...\n",
            "  [ 9.  0.  0.]\n",
            "  [ 9.  0.  0.]\n",
            "  [ 9.  0.  0.]]\n",
            "\n",
            " [[ 4.  0.  0.]\n",
            "  [ 4.  0.  0.]\n",
            "  [ 4.  0.  0.]\n",
            "  ...\n",
            "  [ 9.  0.  0.]\n",
            "  [ 9.  0.  0.]\n",
            "  [ 9.  0.  0.]]\n",
            "\n",
            " ...\n",
            "\n",
            " [[68.  0.  0.]\n",
            "  [62.  0.  0.]\n",
            "  [47.  0.  0.]\n",
            "  ...\n",
            "  [37.  0.  0.]\n",
            "  [29.  0.  0.]\n",
            "  [20.  0.  0.]]\n",
            "\n",
            " [[74.  0.  0.]\n",
            "  [63.  0.  0.]\n",
            "  [43.  0.  0.]\n",
            "  ...\n",
            "  [44.  0.  0.]\n",
            "  [33.  0.  0.]\n",
            "  [20.  0.  0.]]\n",
            "\n",
            " [[76.  0.  0.]\n",
            "  [62.  0.  0.]\n",
            "  [39.  0.  0.]\n",
            "  ...\n",
            "  [52.  0.  0.]\n",
            "  [36.  0.  0.]\n",
            "  [19.  0.  0.]]]\n"
          ]
        }
      ]
    },
    {
      "cell_type": "code",
      "source": [
        ""
      ],
      "metadata": {
        "id": "_a-IlRiX2GSk"
      },
      "execution_count": null,
      "outputs": []
    }
  ]
}