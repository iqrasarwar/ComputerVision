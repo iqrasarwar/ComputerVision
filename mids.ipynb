{
  "nbformat": 4,
  "nbformat_minor": 0,
  "metadata": {
    "colab": {
      "name": "mids.ipynb",
      "provenance": [],
      "authorship_tag": "ABX9TyNI03dET2Olsxw1n9ar1k31",
      "include_colab_link": true
    },
    "kernelspec": {
      "name": "python3",
      "display_name": "Python 3"
    },
    "language_info": {
      "name": "python"
    }
  },
  "cells": [
    {
      "cell_type": "markdown",
      "metadata": {
        "id": "view-in-github",
        "colab_type": "text"
      },
      "source": [
        "<a href=\"https://colab.research.google.com/github/iqrasarwar/ComputerVision/blob/main/mids.ipynb\" target=\"_parent\"><img src=\"https://colab.research.google.com/assets/colab-badge.svg\" alt=\"Open In Colab\"/></a>"
      ]
    },
    {
      "cell_type": "code",
      "execution_count": 7,
      "metadata": {
        "colab": {
          "base_uri": "https://localhost:8080/"
        },
        "id": "ADyUerjxd5fy",
        "outputId": "a4ba619a-24e8-4e44-b983-2b007271ec6e"
      },
      "outputs": [
        {
          "output_type": "stream",
          "name": "stdout",
          "text": [
            "Array is of type:  <class 'numpy.ndarray'>\n",
            "No. of dimensions:  1\n",
            "Shape of array:  (5,)\n",
            "Size of array:  5\n",
            "Array stores elements of type:  <U32\n"
          ]
        }
      ],
      "source": [
        "import numpy as np\n",
        "arr = np.array([7,2,9.9,True,'s'])\n",
        "\n",
        "# Printing type of arr object\n",
        "print(\"Array is of type: \", type(arr))\n",
        " \n",
        "# Printing array dimensions (axes)\n",
        "print(\"No. of dimensions: \", arr.ndim)\n",
        " \n",
        "# Printing shape of array\n",
        "print(\"Shape of array: \", arr.shape)\n",
        " \n",
        "# Printing size (total number of elements) of array\n",
        "print(\"Size of array: \", arr.size)\n",
        " \n",
        "# Printing type of elements in array\n",
        "print(\"Array stores elements of type: \", arr.dtype)"
      ]
    },
    {
      "cell_type": "code",
      "source": [
        "rr_constant = np.full((2,2), 5)  # Create a constant array\n",
        "print(rr_constant)    \n",
        "rr_constant[0][0] = 0\n",
        "print(rr_constant) \n",
        "rr_constant = np.full((3,3),6)\n",
        "print(rr_constant) "
      ],
      "metadata": {
        "colab": {
          "base_uri": "https://localhost:8080/"
        },
        "id": "ipfR-fEveFCg",
        "outputId": "a9e6a994-698f-4277-9f8a-2cd2e7052fed"
      },
      "execution_count": 15,
      "outputs": [
        {
          "output_type": "stream",
          "name": "stdout",
          "text": [
            "[[5 5]\n",
            " [5 5]]\n",
            "[[0 5]\n",
            " [5 5]]\n",
            "[[6 6 6]\n",
            " [6 6 6]\n",
            " [6 6 6]]\n"
          ]
        }
      ]
    },
    {
      "cell_type": "code",
      "source": [
        "arr_of_ones = np.zeros((3,3))+2   # Create an array of all ones\n",
        "print(arr_of_ones)   \n",
        "arr_of_ones[0][0] = 0\n",
        "print(arr_of_ones) "
      ],
      "metadata": {
        "colab": {
          "base_uri": "https://localhost:8080/"
        },
        "id": "Nunl-ZfAe_cy",
        "outputId": "c507739e-b28e-43da-f40a-c7f7eb001262"
      },
      "execution_count": 13,
      "outputs": [
        {
          "output_type": "stream",
          "name": "stdout",
          "text": [
            "[[2. 2. 2.]\n",
            " [2. 2. 2.]\n",
            " [2. 2. 2.]]\n",
            "[[0. 2. 2.]\n",
            " [2. 2. 2.]\n",
            " [2. 2. 2.]]\n"
          ]
        }
      ]
    },
    {
      "cell_type": "code",
      "source": [
        ""
      ],
      "metadata": {
        "id": "UfFjSCbKfPTX"
      },
      "execution_count": null,
      "outputs": []
    }
  ]
}