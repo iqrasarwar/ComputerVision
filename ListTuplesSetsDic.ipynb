{
  "nbformat": 4,
  "nbformat_minor": 0,
  "metadata": {
    "colab": {
      "name": "ListTuplesSetsDic.ipynb",
      "provenance": [],
      "authorship_tag": "ABX9TyMfnILe8STI2WvRgHJYtKxM",
      "include_colab_link": true
    },
    "kernelspec": {
      "name": "python3",
      "display_name": "Python 3"
    },
    "language_info": {
      "name": "python"
    }
  },
  "cells": [
    {
      "cell_type": "markdown",
      "metadata": {
        "id": "view-in-github",
        "colab_type": "text"
      },
      "source": [
        "<a href=\"https://colab.research.google.com/github/iqrasarwar/ComputerVision/blob/main/ListTuplesSetsDic.ipynb\" target=\"_parent\"><img src=\"https://colab.research.google.com/assets/colab-badge.svg\" alt=\"Open In Colab\"/></a>"
      ]
    },
    {
      "cell_type": "code",
      "execution_count": 22,
      "metadata": {
        "colab": {
          "base_uri": "https://localhost:8080/"
        },
        "id": "qDekUdWn_AJg",
        "outputId": "7e3abd51-8aad-4ec5-c206-d959cac9fb3c"
      },
      "outputs": [
        {
          "output_type": "stream",
          "name": "stdout",
          "text": [
            "['internet of things', 1.3, 23, 34, 12, 1, '12', 23]\n",
            "['internet of things', 1.3, 23, 34, 12, '12', 23]\n",
            "things\n",
            "1a\n",
            "['1a', 'b33', 'things']\n",
            "['things', 'b33', '1a']\n",
            "[1.3, 23, 34, 12, '12', 23] Total courses: 6\n",
            "[1.3, 23, 34, 12, '12', 23, '1a', 'b33', 'things']\n"
          ]
        }
      ],
      "source": [
        "list = [\"internet of things\",1.3,23,34,12]\n",
        "list.append(1)\n",
        "list.append('12')\n",
        "list.append(23)\n",
        "print(list)\n",
        "list.remove(1)\n",
        "print(list)\n",
        "same_type_list = [\"1a\", 'b33',\"things\"]\n",
        "print(max(same_type_list))\n",
        "print(min(same_type_list))\n",
        "print(sorted(same_type_list))\n",
        "print(sorted(same_type_list, reverse=True))\n",
        "list.remove(\"internet of things\") # remove items from the list\n",
        "print(list, \"Total courses: \"+str(len(list)))\n",
        "listConcat = list + same_type_list\n",
        "print(listConcat)\n",
        "del listConcat"
      ]
    },
    {
      "cell_type": "code",
      "source": [
        "print(list)\n",
        "print(list[:-1])\n",
        "print(list[:6])\n",
        "print(list[3:70])"
      ],
      "metadata": {
        "colab": {
          "base_uri": "https://localhost:8080/"
        },
        "id": "AeVczV1g_gtG",
        "outputId": "695a6eb7-6140-437f-b3f4-4e063028907a"
      },
      "execution_count": 31,
      "outputs": [
        {
          "output_type": "stream",
          "name": "stdout",
          "text": [
            "[1.3, 23, 34, 12, '12', 23]\n",
            "[1.3, 23, 34, 12, '12']\n",
            "[1.3, 23, 34, 12, '12', 23]\n",
            "[12, '12', 23]\n"
          ]
        }
      ]
    },
    {
      "cell_type": "code",
      "source": [
        "# [expr for val in collection if cond] COMPREHENSION\n",
        "list = [1,2,3,4,5,6,7]\n",
        "list1 = [i%3 for i in list ]\n",
        "print(list1)\n",
        "list2 = [i+3 for i in list if i > 2]\n",
        "print(list2)"
      ],
      "metadata": {
        "colab": {
          "base_uri": "https://localhost:8080/"
        },
        "id": "P6PyfsebD7lv",
        "outputId": "a71e57e9-730b-4159-9704-a6fe1406c74e"
      },
      "execution_count": 35,
      "outputs": [
        {
          "output_type": "stream",
          "name": "stdout",
          "text": [
            "[1, 2, 0, 1, 2, 0, 1]\n",
            "[6, 7, 8, 9, 10]\n"
          ]
        }
      ]
    },
    {
      "cell_type": "code",
      "source": [
        "# TUPLES ORDERED UNCAHNGABLE\n",
        "t = (1,2,3)\n",
        "t.__add__((1,2,3))\n",
        "print(t)\n",
        "#t[0]=22 ERRROR"
      ],
      "metadata": {
        "colab": {
          "base_uri": "https://localhost:8080/"
        },
        "id": "iw05_SFZFKDW",
        "outputId": "66eb6288-c071-4327-b508-f2552c08af5d"
      },
      "execution_count": 40,
      "outputs": [
        {
          "output_type": "stream",
          "name": "stdout",
          "text": [
            "(1, 2, 3)\n"
          ]
        }
      ]
    },
    {
      "cell_type": "code",
      "source": [
        "#count tell count of element\n",
        "lsit = [1,2,3,2,4,2,1]\n",
        "print(lsit.count(2))"
      ],
      "metadata": {
        "colab": {
          "base_uri": "https://localhost:8080/"
        },
        "id": "pZFDoSKYFzEy",
        "outputId": "127d9af3-01c4-4b12-ceb4-6c5fbda40a7e"
      },
      "execution_count": 41,
      "outputs": [
        {
          "output_type": "stream",
          "name": "stdout",
          "text": [
            "3\n"
          ]
        }
      ]
    },
    {
      "cell_type": "code",
      "source": [
        ""
      ],
      "metadata": {
        "id": "S_fGINqPHTQj"
      },
      "execution_count": null,
      "outputs": []
    }
  ]
}