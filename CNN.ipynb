{
  "cells": [
    {
      "cell_type": "markdown",
      "metadata": {
        "id": "view-in-github",
        "colab_type": "text"
      },
      "source": [
        "<a href=\"https://colab.research.google.com/github/iqrasarwar/ComputerVision/blob/main/CNN.ipynb\" target=\"_parent\"><img src=\"https://colab.research.google.com/assets/colab-badge.svg\" alt=\"Open In Colab\"/></a>"
      ]
    },
    {
      "cell_type": "code",
      "execution_count": 91,
      "id": "77438711",
      "metadata": {
        "id": "77438711"
      },
      "outputs": [],
      "source": [
        "import os\n",
        "import cv2\n",
        "import numpy as np\n",
        "import matplotlib.pyplot as plt\n",
        "from tensorflow.keras.utils import to_categorical\n",
        "import tensorflow\n",
        "import keras"
      ]
    },
    {
      "cell_type": "code",
      "execution_count": 92,
      "id": "3d7e3997",
      "metadata": {
        "id": "3d7e3997"
      },
      "outputs": [],
      "source": [
        "images = []\n",
        "labels = []"
      ]
    },
    {
      "cell_type": "code",
      "execution_count": 93,
      "id": "a5e0d4bb",
      "metadata": {
        "colab": {
          "base_uri": "https://localhost:8080/"
        },
        "id": "a5e0d4bb",
        "outputId": "76076a23-4884-4848-ee52-a4b1fa00fc24"
      },
      "outputs": [
        {
          "output_type": "execute_result",
          "data": {
            "text/plain": [
              "['sad', 'angry', 'neutral', 'disgust', 'fear', 'surprise', 'happy']"
            ]
          },
          "metadata": {},
          "execution_count": 93
        }
      ],
      "source": [
        "dataset_path = '/content/drive/MyDrive/ComputerVisionCoLabFiles/CNN/train/'\n",
        "folders = os.listdir(dataset_path)\n",
        "folders"
      ]
    },
    {
      "cell_type": "code",
      "execution_count": 94,
      "id": "846cdec5",
      "metadata": {
        "colab": {
          "base_uri": "https://localhost:8080/"
        },
        "id": "846cdec5",
        "outputId": "0737cd9f-ea3d-4942-a138-0a74041c8496"
      },
      "outputs": [
        {
          "output_type": "stream",
          "name": "stdout",
          "text": [
            "{0: 'angry', 1: 'disgust', 2: 'fear', 3: 'happy', 4: 'neutral', 5: 'sad', 6: 'surprise'}\n"
          ]
        }
      ],
      "source": [
        "name_mapping_dict = {'angry':0, 'disgust':1, 'fear':2, 'happy':3, 'neutral':4, 'sad':5, 'surprise':6}\n",
        "inv_name_mapping_dict =  {v: k for k, v in name_mapping_dict.items()}\n",
        "print(inv_name_mapping_dict)"
      ]
    },
    {
      "cell_type": "code",
      "execution_count": 95,
      "id": "e3dd9630",
      "metadata": {
        "id": "e3dd9630"
      },
      "outputs": [],
      "source": [
        "img_size = 64"
      ]
    },
    {
      "cell_type": "code",
      "execution_count": 96,
      "id": "be41bbe1",
      "metadata": {
        "colab": {
          "base_uri": "https://localhost:8080/"
        },
        "id": "be41bbe1",
        "outputId": "463e2057-5b0c-489c-e10a-5d83995d2197"
      },
      "outputs": [
        {
          "output_type": "stream",
          "name": "stdout",
          "text": [
            "Processing folder: sad\n",
            "Processing folder: angry\n",
            "Processing folder: neutral\n",
            "Processing folder: disgust\n",
            "Processing folder: fear\n",
            "Processing folder: surprise\n",
            "Processing folder: happy\n"
          ]
        }
      ],
      "source": [
        "for folder in folders:\n",
        "  print(f'Processing folder: {folder}')\n",
        "  filenames = os.listdir(dataset_path+folder+'/')\n",
        "  for fname in filenames:\n",
        "    img = plt.imread(dataset_path+folder+'/'+fname)\n",
        "    img = cv2.resize(img, (img_size, img_size))\n",
        "    images.append(img)\n",
        "    labels.append(name_mapping_dict[folder])"
      ]
    },
    {
      "cell_type": "code",
      "execution_count": 111,
      "id": "861be111",
      "metadata": {
        "id": "861be111"
      },
      "outputs": [],
      "source": [
        "images = np.expand_dims(images, axis=3)\n",
        "images = np.array(images)\n",
        "labels = np.array(labels)"
      ]
    },
    {
      "cell_type": "code",
      "source": [
        "print('images shape : ', images.shape)\n",
        "print('labels shape : ', labels.shape)"
      ],
      "metadata": {
        "colab": {
          "base_uri": "https://localhost:8080/"
        },
        "id": "X6rSNz2A9sJv",
        "outputId": "eed24851-6d1d-4cc5-c614-05e7154fc350"
      },
      "id": "X6rSNz2A9sJv",
      "execution_count": 112,
      "outputs": [
        {
          "output_type": "stream",
          "name": "stdout",
          "text": [
            "images shape :  (28847, 64, 64, 1)\n",
            "labels shape :  (28847,)\n"
          ]
        }
      ]
    },
    {
      "cell_type": "code",
      "source": [
        "classes = np.unique(labels)\n",
        "classes_num = len(classes)\n",
        "print('Total number of outputs : ', classes_num)\n",
        "print('Output classes : ', classes)"
      ],
      "metadata": {
        "colab": {
          "base_uri": "https://localhost:8080/"
        },
        "id": "uZOSTFIyo5CH",
        "outputId": "6d9da68d-2617-41d6-fb5f-f51198cd72c5"
      },
      "id": "uZOSTFIyo5CH",
      "execution_count": 121,
      "outputs": [
        {
          "output_type": "stream",
          "name": "stdout",
          "text": [
            "Total number of outputs :  7\n",
            "Output classes :  [0 1 2 3 4 5 6]\n"
          ]
        }
      ]
    },
    {
      "cell_type": "code",
      "source": [
        "images = np.array(images) / 255"
      ],
      "metadata": {
        "id": "Q2sK4raRpvct"
      },
      "id": "Q2sK4raRpvct",
      "execution_count": 122,
      "outputs": []
    },
    {
      "cell_type": "code",
      "source": [
        "labels_one_hot = to_categorical(labels)"
      ],
      "metadata": {
        "id": "4fScnBbapyrX"
      },
      "id": "4fScnBbapyrX",
      "execution_count": 123,
      "outputs": []
    },
    {
      "cell_type": "code",
      "source": [
        "labels[303]"
      ],
      "metadata": {
        "colab": {
          "base_uri": "https://localhost:8080/"
        },
        "id": "SYF0pL_BqleZ",
        "outputId": "0b4e9aac-39ec-4db0-db70-bf49bbe8c2a6"
      },
      "id": "SYF0pL_BqleZ",
      "execution_count": 124,
      "outputs": [
        {
          "output_type": "execute_result",
          "data": {
            "text/plain": [
              "5"
            ]
          },
          "metadata": {},
          "execution_count": 124
        }
      ]
    },
    {
      "cell_type": "code",
      "source": [
        "labels_one_hot[303]"
      ],
      "metadata": {
        "colab": {
          "base_uri": "https://localhost:8080/"
        },
        "id": "UIS12OVcqnkV",
        "outputId": "dfe59bdc-d500-40fa-8aee-cb480df7f45e"
      },
      "id": "UIS12OVcqnkV",
      "execution_count": 125,
      "outputs": [
        {
          "output_type": "execute_result",
          "data": {
            "text/plain": [
              "array([0., 0., 0., 0., 0., 1., 0.], dtype=float32)"
            ]
          },
          "metadata": {},
          "execution_count": 125
        }
      ]
    },
    {
      "cell_type": "code",
      "source": [
        "# Shuffling and Splittng Dataset\n",
        "from sklearn.model_selection import train_test_split\n",
        "\n",
        "train_images, test_images, train_labels, test_labels = train_test_split(images, labels_one_hot, test_size=0.10, shuffle=True, random_state=0)\n",
        "\n",
        "\n",
        "print('Training data shape : ', train_images.shape, train_labels.shape)\n",
        "print('Testing data shape : ', test_images.shape, test_labels.shape)"
      ],
      "metadata": {
        "colab": {
          "base_uri": "https://localhost:8080/"
        },
        "id": "r1uaWucgqpPt",
        "outputId": "ec8db799-55d5-4d51-b2f4-b6bbd9b4b754"
      },
      "id": "r1uaWucgqpPt",
      "execution_count": 126,
      "outputs": [
        {
          "output_type": "stream",
          "name": "stdout",
          "text": [
            "Training data shape :  (25962, 64, 64, 1) (25962, 7)\n",
            "Testing data shape :  (2885, 64, 64, 1) (2885, 7)\n"
          ]
        }
      ]
    },
    {
      "cell_type": "code",
      "source": [
        "import keras\n",
        "from keras.models import Sequential\n",
        "from keras.layers import Dense, Conv2D , MaxPool2D , Flatten \n",
        "\n",
        "# Same padding: This padding ensures that the output layer has the same size as the input layer\n",
        "model = Sequential()\n",
        "model.add(Conv2D(32, 3, padding=\"same\", activation=\"relu\", input_shape=(img_size, img_size,1)))\n",
        "model.add(MaxPool2D())\n",
        "\n",
        "model.add(Conv2D(32, 3, padding=\"same\", activation=\"relu\"))\n",
        "model.add(MaxPool2D())\n",
        "\n",
        "model.add(Conv2D(64, 3, padding=\"same\", activation=\"relu\"))\n",
        "model.add(MaxPool2D())\n",
        "\n",
        "model.add(Flatten())\n",
        "model.add(Dense(128,activation=\"relu\"))\n",
        "model.add(Dense(classes_num, activation=\"softmax\"))"
      ],
      "metadata": {
        "id": "_U5LIsSuqs5s"
      },
      "id": "_U5LIsSuqs5s",
      "execution_count": 127,
      "outputs": []
    },
    {
      "cell_type": "code",
      "source": [
        "model.compile(optimizer='adam', loss= 'categorical_crossentropy', metrics=['accuracy'])"
      ],
      "metadata": {
        "id": "q7uQcZxSq03X"
      },
      "id": "q7uQcZxSq03X",
      "execution_count": 130,
      "outputs": []
    },
    {
      "cell_type": "code",
      "source": [
        "history = model.fit(train_images, train_labels, batch_size=128, epochs=15, verbose=1, \n",
        "                   validation_data=(test_images, test_labels))"
      ],
      "metadata": {
        "colab": {
          "base_uri": "https://localhost:8080/"
        },
        "id": "KZcQ6-x7q4Ai",
        "outputId": "4d484792-84ba-4f02-e4ad-674d45516907"
      },
      "id": "KZcQ6-x7q4Ai",
      "execution_count": 131,
      "outputs": [
        {
          "output_type": "stream",
          "name": "stdout",
          "text": [
            "Epoch 1/15\n",
            "203/203 [==============================] - 127s 622ms/step - loss: 1.8181 - accuracy: 0.2496 - val_loss: 1.8066 - val_accuracy: 0.2562\n",
            "Epoch 2/15\n",
            "203/203 [==============================] - 125s 615ms/step - loss: 1.8122 - accuracy: 0.2502 - val_loss: 1.8069 - val_accuracy: 0.2562\n",
            "Epoch 3/15\n",
            "203/203 [==============================] - 125s 618ms/step - loss: 1.8116 - accuracy: 0.2502 - val_loss: 1.8093 - val_accuracy: 0.2562\n",
            "Epoch 4/15\n",
            "203/203 [==============================] - 124s 610ms/step - loss: 1.8106 - accuracy: 0.2502 - val_loss: 1.8034 - val_accuracy: 0.2562\n",
            "Epoch 5/15\n",
            "203/203 [==============================] - 126s 622ms/step - loss: 1.7669 - accuracy: 0.2722 - val_loss: 1.7006 - val_accuracy: 0.3345\n",
            "Epoch 6/15\n",
            "203/203 [==============================] - 123s 607ms/step - loss: 1.6814 - accuracy: 0.3335 - val_loss: 1.6372 - val_accuracy: 0.3542\n",
            "Epoch 7/15\n",
            "203/203 [==============================] - 123s 606ms/step - loss: 1.6409 - accuracy: 0.3574 - val_loss: 1.6049 - val_accuracy: 0.3896\n",
            "Epoch 8/15\n",
            "203/203 [==============================] - 124s 609ms/step - loss: 1.6038 - accuracy: 0.3772 - val_loss: 1.5721 - val_accuracy: 0.3955\n",
            "Epoch 9/15\n",
            "203/203 [==============================] - 122s 603ms/step - loss: 1.5701 - accuracy: 0.3885 - val_loss: 1.5314 - val_accuracy: 0.4156\n",
            "Epoch 10/15\n",
            "203/203 [==============================] - 123s 604ms/step - loss: 1.5355 - accuracy: 0.4034 - val_loss: 1.5133 - val_accuracy: 0.4236\n",
            "Epoch 11/15\n",
            "203/203 [==============================] - 122s 603ms/step - loss: 1.5025 - accuracy: 0.4187 - val_loss: 1.4799 - val_accuracy: 0.4388\n",
            "Epoch 12/15\n",
            "203/203 [==============================] - 123s 605ms/step - loss: 1.4726 - accuracy: 0.4329 - val_loss: 1.4563 - val_accuracy: 0.4433\n",
            "Epoch 13/15\n",
            "203/203 [==============================] - 123s 605ms/step - loss: 1.4520 - accuracy: 0.4425 - val_loss: 1.4542 - val_accuracy: 0.4454\n",
            "Epoch 14/15\n",
            "203/203 [==============================] - 124s 610ms/step - loss: 1.4246 - accuracy: 0.4542 - val_loss: 1.4472 - val_accuracy: 0.4444\n",
            "Epoch 15/15\n",
            "203/203 [==============================] - 124s 611ms/step - loss: 1.4042 - accuracy: 0.4630 - val_loss: 1.4313 - val_accuracy: 0.4568\n"
          ]
        }
      ]
    },
    {
      "cell_type": "code",
      "source": [
        "[test_loss, test_acc] = model.evaluate(test_images, test_labels)\n",
        "print(\"Evaluation result on Test Data : Loss = {}, accuracy = {}\".format(test_loss, test_acc*100))"
      ],
      "metadata": {
        "colab": {
          "base_uri": "https://localhost:8080/"
        },
        "id": "Ai3n6tvxCBIL",
        "outputId": "3aa7a634-70f8-4115-aa90-9d230adc208e"
      },
      "id": "Ai3n6tvxCBIL",
      "execution_count": 132,
      "outputs": [
        {
          "output_type": "stream",
          "name": "stdout",
          "text": [
            "91/91 [==============================] - 4s 43ms/step - loss: 1.4313 - accuracy: 0.4568\n",
            "Evaluation result on Test Data : Loss = 1.4313044548034668, accuracy = 45.6845760345459\n"
          ]
        }
      ]
    }
  ],
  "metadata": {
    "kernelspec": {
      "display_name": "Python 3 (ipykernel)",
      "language": "python",
      "name": "python3"
    },
    "language_info": {
      "codemirror_mode": {
        "name": "ipython",
        "version": 3
      },
      "file_extension": ".py",
      "mimetype": "text/x-python",
      "name": "python",
      "nbconvert_exporter": "python",
      "pygments_lexer": "ipython3",
      "version": "3.9.7"
    },
    "colab": {
      "name": "CNN.ipynb",
      "provenance": [],
      "collapsed_sections": [],
      "include_colab_link": true
    }
  },
  "nbformat": 4,
  "nbformat_minor": 5
}