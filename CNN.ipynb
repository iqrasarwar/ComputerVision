{
  "cells": [
    {
      "cell_type": "markdown",
      "metadata": {
        "id": "view-in-github",
        "colab_type": "text"
      },
      "source": [
        "<a href=\"https://colab.research.google.com/github/iqrasarwar/ComputerVision/blob/main/CNN.ipynb\" target=\"_parent\"><img src=\"https://colab.research.google.com/assets/colab-badge.svg\" alt=\"Open In Colab\"/></a>"
      ]
    },
    {
      "cell_type": "markdown",
      "source": [
        "**WithOut Transfer Learning**\n",
        "\n"
      ],
      "metadata": {
        "id": "k9mNcE-eEqlb"
      },
      "id": "k9mNcE-eEqlb"
    },
    {
      "cell_type": "code",
      "execution_count": 3,
      "id": "77438711",
      "metadata": {
        "id": "77438711"
      },
      "outputs": [],
      "source": [
        "import os\n",
        "import cv2\n",
        "import numpy as np\n",
        "import matplotlib.pyplot as plt\n",
        "from tensorflow.keras.utils import to_categorical\n",
        "import tensorflow\n",
        "import keras"
      ]
    },
    {
      "cell_type": "code",
      "execution_count": null,
      "id": "3d7e3997",
      "metadata": {
        "id": "3d7e3997"
      },
      "outputs": [],
      "source": [
        "images = []\n",
        "labels = []"
      ]
    },
    {
      "cell_type": "code",
      "execution_count": 4,
      "id": "a5e0d4bb",
      "metadata": {
        "colab": {
          "base_uri": "https://localhost:8080/"
        },
        "id": "a5e0d4bb",
        "outputId": "c9ec950b-bbea-4ace-b488-65fd9b575ce8"
      },
      "outputs": [
        {
          "output_type": "execute_result",
          "data": {
            "text/plain": [
              "['sad', 'angry', 'neutral', 'disgust', 'fear', 'surprise', 'happy', 'model.h5']"
            ]
          },
          "metadata": {},
          "execution_count": 4
        }
      ],
      "source": [
        "dataset_path = '/content/drive/MyDrive/ComputerVisionCoLabFiles/CNN/train/'\n",
        "folders = os.listdir(dataset_path)\n",
        "folders"
      ]
    },
    {
      "cell_type": "code",
      "execution_count": 5,
      "id": "846cdec5",
      "metadata": {
        "colab": {
          "base_uri": "https://localhost:8080/"
        },
        "id": "846cdec5",
        "outputId": "b7d29541-99c7-424f-9307-7f41645ecff1"
      },
      "outputs": [
        {
          "output_type": "stream",
          "name": "stdout",
          "text": [
            "{0: 'angry', 1: 'disgust', 2: 'fear', 3: 'happy', 4: 'neutral', 5: 'sad', 6: 'surprise'}\n"
          ]
        }
      ],
      "source": [
        "name_mapping_dict = {'angry':0, 'disgust':1, 'fear':2, 'happy':3, 'neutral':4, 'sad':5, 'surprise':6}\n",
        "inv_name_mapping_dict =  {v: k for k, v in name_mapping_dict.items()}\n",
        "print(inv_name_mapping_dict)"
      ]
    },
    {
      "cell_type": "code",
      "source": [
        "from google.colab import drive\n",
        "drive.mount('/content/drive')"
      ],
      "metadata": {
        "colab": {
          "base_uri": "https://localhost:8080/"
        },
        "id": "1lkUc2rTCjp_",
        "outputId": "ffb4792f-2a59-4f1a-da4d-3beb92bd8dc1"
      },
      "id": "1lkUc2rTCjp_",
      "execution_count": 6,
      "outputs": [
        {
          "output_type": "stream",
          "name": "stdout",
          "text": [
            "Mounted at /content/drive\n"
          ]
        }
      ]
    },
    {
      "cell_type": "code",
      "execution_count": null,
      "id": "e3dd9630",
      "metadata": {
        "id": "e3dd9630"
      },
      "outputs": [],
      "source": [
        "img_size = 100"
      ]
    },
    {
      "cell_type": "code",
      "execution_count": null,
      "id": "be41bbe1",
      "metadata": {
        "colab": {
          "base_uri": "https://localhost:8080/"
        },
        "id": "be41bbe1",
        "outputId": "5fa0dece-8c6d-4727-9dab-6984f813d74f"
      },
      "outputs": [
        {
          "output_type": "stream",
          "name": "stdout",
          "text": [
            "Processing folder: sad\n",
            "Processing folder: angry\n",
            "Processing folder: neutral\n",
            "Processing folder: disgust\n",
            "Processing folder: fear\n",
            "Processing folder: surprise\n",
            "Processing folder: happy\n"
          ]
        }
      ],
      "source": [
        "for folder in folders:\n",
        "  print(f'Processing folder: {folder}')\n",
        "  filenames = os.listdir(dataset_path+folder+'/')\n",
        "  for fname in filenames:\n",
        "    img = plt.imread(dataset_path+folder+'/'+fname)\n",
        "    img = cv2.resize(img, (img_size, img_size))\n",
        "    images.append(img)\n",
        "    labels.append(name_mapping_dict[folder])"
      ]
    },
    {
      "cell_type": "code",
      "execution_count": null,
      "id": "861be111",
      "metadata": {
        "id": "861be111"
      },
      "outputs": [],
      "source": [
        "images = np.expand_dims(images, axis=3)\n",
        "images = np.array(images)\n",
        "labels = np.array(labels)"
      ]
    },
    {
      "cell_type": "code",
      "source": [
        "print('images shape : ', images.shape)\n",
        "print('labels shape : ', labels.shape)"
      ],
      "metadata": {
        "colab": {
          "base_uri": "https://localhost:8080/"
        },
        "id": "X6rSNz2A9sJv",
        "outputId": "31b480d6-9f5c-49b6-8d33-4e1297fd2b7a"
      },
      "id": "X6rSNz2A9sJv",
      "execution_count": null,
      "outputs": [
        {
          "output_type": "stream",
          "name": "stdout",
          "text": [
            "images shape :  (28847, 100, 100, 1)\n",
            "labels shape :  (28847,)\n"
          ]
        }
      ]
    },
    {
      "cell_type": "code",
      "source": [
        "classes = np.unique(labels)\n",
        "classes_num = len(classes)\n",
        "print('Total number of outputs : ', classes_num)\n",
        "print('Output classes : ', classes)"
      ],
      "metadata": {
        "colab": {
          "base_uri": "https://localhost:8080/"
        },
        "id": "uZOSTFIyo5CH",
        "outputId": "29e98de0-1136-44c9-a668-b0ec7ba7757e"
      },
      "id": "uZOSTFIyo5CH",
      "execution_count": null,
      "outputs": [
        {
          "output_type": "stream",
          "name": "stdout",
          "text": [
            "Total number of outputs :  7\n",
            "Output classes :  [0 1 2 3 4 5 6]\n"
          ]
        }
      ]
    },
    {
      "cell_type": "code",
      "source": [
        "images = np.array(images) / 255"
      ],
      "metadata": {
        "id": "Q2sK4raRpvct"
      },
      "id": "Q2sK4raRpvct",
      "execution_count": null,
      "outputs": []
    },
    {
      "cell_type": "code",
      "source": [
        "labels_one_hot = to_categorical(labels)"
      ],
      "metadata": {
        "id": "4fScnBbapyrX"
      },
      "id": "4fScnBbapyrX",
      "execution_count": null,
      "outputs": []
    },
    {
      "cell_type": "code",
      "source": [
        "labels[303]"
      ],
      "metadata": {
        "colab": {
          "base_uri": "https://localhost:8080/"
        },
        "id": "SYF0pL_BqleZ",
        "outputId": "6d309a98-2f54-4748-8728-49030a48bd99"
      },
      "id": "SYF0pL_BqleZ",
      "execution_count": null,
      "outputs": [
        {
          "output_type": "execute_result",
          "data": {
            "text/plain": [
              "5"
            ]
          },
          "metadata": {},
          "execution_count": 17
        }
      ]
    },
    {
      "cell_type": "code",
      "source": [
        "labels_one_hot[303]"
      ],
      "metadata": {
        "colab": {
          "base_uri": "https://localhost:8080/"
        },
        "id": "UIS12OVcqnkV",
        "outputId": "c96448dc-7122-44c7-f6a3-bc1d9b65ddb6"
      },
      "id": "UIS12OVcqnkV",
      "execution_count": null,
      "outputs": [
        {
          "output_type": "execute_result",
          "data": {
            "text/plain": [
              "array([0., 0., 0., 0., 0., 1., 0.], dtype=float32)"
            ]
          },
          "metadata": {},
          "execution_count": 18
        }
      ]
    },
    {
      "cell_type": "code",
      "source": [
        "# Shuffling and Splittng Dataset\n",
        "from sklearn.model_selection import train_test_split\n",
        "\n",
        "train_images, test_images, train_labels, test_labels = train_test_split(images, labels_one_hot, test_size=0.10, shuffle=True, random_state=0)\n",
        "\n",
        "\n",
        "print('Training data shape : ', train_images.shape, train_labels.shape)\n",
        "print('Testing data shape : ', test_images.shape, test_labels.shape)"
      ],
      "metadata": {
        "colab": {
          "base_uri": "https://localhost:8080/"
        },
        "id": "r1uaWucgqpPt",
        "outputId": "35e91b6f-7ce5-43a5-8dd5-4d58ac95ccdc"
      },
      "id": "r1uaWucgqpPt",
      "execution_count": null,
      "outputs": [
        {
          "output_type": "stream",
          "name": "stdout",
          "text": [
            "Training data shape :  (25962, 100, 100, 1) (25962, 7)\n",
            "Testing data shape :  (2885, 100, 100, 1) (2885, 7)\n"
          ]
        }
      ]
    },
    {
      "cell_type": "code",
      "source": [
        "import keras\n",
        "from keras.models import Sequential\n",
        "from keras.layers import Dense, Conv2D , MaxPool2D , Flatten \n",
        "\n",
        "# Same padding: This padding ensures that the output layer has the same size as the input layer\n",
        "model = Sequential()\n",
        "model.add(Conv2D(32, 4, padding=\"same\", activation=\"relu\", input_shape=(img_size, img_size,1)))\n",
        "model.add(MaxPool2D())\n",
        "\n",
        "model.add(Conv2D(32, 4, padding=\"same\", activation=\"relu\"))\n",
        "model.add(MaxPool2D())\n",
        "\n",
        "model.add(Conv2D(64, 4, padding=\"same\", activation=\"relu\"))\n",
        "model.add(MaxPool2D())\n",
        "\n",
        "model.add(Conv2D(64, 4, padding=\"same\", activation=\"relu\"))\n",
        "model.add(MaxPool2D())\n",
        "\n",
        "model.add(Flatten())\n",
        "model.add(Dense(128,activation=\"relu\"))\n",
        "model.add(Dense(classes_num, activation=\"softmax\"))"
      ],
      "metadata": {
        "id": "_U5LIsSuqs5s"
      },
      "id": "_U5LIsSuqs5s",
      "execution_count": null,
      "outputs": []
    },
    {
      "cell_type": "code",
      "source": [
        "model.compile(optimizer='adam', loss= 'categorical_crossentropy', metrics=['accuracy'])"
      ],
      "metadata": {
        "id": "q7uQcZxSq03X"
      },
      "id": "q7uQcZxSq03X",
      "execution_count": null,
      "outputs": []
    },
    {
      "cell_type": "markdown",
      "source": [
        "I ran below cell model.fit for first time it started from 0.3 accuracy and improved gradually. I accediently again ran it, it lost the previous result(output of epochs) and started epochs from 1 but this time from accuracy of 0.97. It took almost 3 hours 45 mints for first run. I can now re run from start to show the results but I don't know how much time it will take in this second run I don't have the enough time to run it for the 3rd time:( So leaving it as it is. "
      ],
      "metadata": {
        "id": "H-6iRqiF647a"
      },
      "id": "H-6iRqiF647a"
    },
    {
      "cell_type": "code",
      "source": [
        "history = model.fit(train_images, train_labels, batch_size=128, epochs=25, verbose=1, \n",
        "                   validation_data=(test_images, test_labels))"
      ],
      "metadata": {
        "colab": {
          "base_uri": "https://localhost:8080/"
        },
        "id": "KZcQ6-x7q4Ai",
        "outputId": "6a3883d1-f485-4ff1-d26a-022029a3e234"
      },
      "id": "KZcQ6-x7q4Ai",
      "execution_count": null,
      "outputs": [
        {
          "output_type": "stream",
          "name": "stdout",
          "text": [
            "Epoch 1/25\n",
            "203/203 [==============================] - 534s 3s/step - loss: 0.0747 - accuracy: 0.9765 - val_loss: 4.0605 - val_accuracy: 0.5567\n",
            "Epoch 2/25\n",
            "203/203 [==============================] - 531s 3s/step - loss: 0.0693 - accuracy: 0.9784 - val_loss: 4.3510 - val_accuracy: 0.5504\n",
            "Epoch 3/25\n",
            "203/203 [==============================] - 528s 3s/step - loss: 0.0701 - accuracy: 0.9790 - val_loss: 4.1418 - val_accuracy: 0.5560\n",
            "Epoch 4/25\n",
            "203/203 [==============================] - 527s 3s/step - loss: 0.0727 - accuracy: 0.9778 - val_loss: 4.1006 - val_accuracy: 0.5473\n",
            "Epoch 5/25\n",
            "203/203 [==============================] - 525s 3s/step - loss: 0.0605 - accuracy: 0.9809 - val_loss: 4.3318 - val_accuracy: 0.5511\n",
            "Epoch 6/25\n",
            "203/203 [==============================] - 527s 3s/step - loss: 0.0525 - accuracy: 0.9842 - val_loss: 4.6167 - val_accuracy: 0.5445\n",
            "Epoch 7/25\n",
            "203/203 [==============================] - 525s 3s/step - loss: 0.0849 - accuracy: 0.9739 - val_loss: 4.2712 - val_accuracy: 0.5421\n",
            "Epoch 8/25\n",
            "203/203 [==============================] - 524s 3s/step - loss: 0.0785 - accuracy: 0.9743 - val_loss: 4.4879 - val_accuracy: 0.5511\n",
            "Epoch 9/25\n",
            "203/203 [==============================] - 522s 3s/step - loss: 0.0674 - accuracy: 0.9796 - val_loss: 4.2721 - val_accuracy: 0.5456\n",
            "Epoch 10/25\n",
            "203/203 [==============================] - 524s 3s/step - loss: 0.0605 - accuracy: 0.9825 - val_loss: 4.3683 - val_accuracy: 0.5487\n",
            "Epoch 11/25\n",
            "203/203 [==============================] - 528s 3s/step - loss: 0.0552 - accuracy: 0.9831 - val_loss: 4.4244 - val_accuracy: 0.5577\n",
            "Epoch 12/25\n",
            "203/203 [==============================] - 532s 3s/step - loss: 0.0651 - accuracy: 0.9805 - val_loss: 4.5418 - val_accuracy: 0.5536\n",
            "Epoch 13/25\n",
            "203/203 [==============================] - 526s 3s/step - loss: 0.0550 - accuracy: 0.9824 - val_loss: 4.3002 - val_accuracy: 0.5536\n",
            "Epoch 14/25\n",
            "203/203 [==============================] - 525s 3s/step - loss: 0.0466 - accuracy: 0.9857 - val_loss: 4.6454 - val_accuracy: 0.5438\n",
            "Epoch 15/25\n",
            "203/203 [==============================] - 531s 3s/step - loss: 0.0544 - accuracy: 0.9837 - val_loss: 4.4741 - val_accuracy: 0.5511\n",
            "Epoch 16/25\n",
            "203/203 [==============================] - 528s 3s/step - loss: 0.0603 - accuracy: 0.9814 - val_loss: 4.7314 - val_accuracy: 0.5553\n",
            "Epoch 17/25\n",
            "203/203 [==============================] - 530s 3s/step - loss: 0.0808 - accuracy: 0.9744 - val_loss: 4.5549 - val_accuracy: 0.5511\n",
            "Epoch 18/25\n",
            "203/203 [==============================] - 530s 3s/step - loss: 0.0611 - accuracy: 0.9822 - val_loss: 4.5310 - val_accuracy: 0.5549\n",
            "Epoch 19/25\n",
            "203/203 [==============================] - 528s 3s/step - loss: 0.0575 - accuracy: 0.9820 - val_loss: 4.6130 - val_accuracy: 0.5501\n",
            "Epoch 20/25\n",
            "203/203 [==============================] - 528s 3s/step - loss: 0.0646 - accuracy: 0.9801 - val_loss: 4.4909 - val_accuracy: 0.5286\n",
            "Epoch 21/25\n",
            "203/203 [==============================] - 530s 3s/step - loss: 0.0639 - accuracy: 0.9793 - val_loss: 4.5151 - val_accuracy: 0.5466\n",
            "Epoch 22/25\n",
            "203/203 [==============================] - 526s 3s/step - loss: 0.0380 - accuracy: 0.9889 - val_loss: 4.5571 - val_accuracy: 0.5511\n",
            "Epoch 23/25\n",
            "203/203 [==============================] - 527s 3s/step - loss: 0.0333 - accuracy: 0.9902 - val_loss: 4.5959 - val_accuracy: 0.5584\n",
            "Epoch 24/25\n",
            "203/203 [==============================] - 528s 3s/step - loss: 0.0490 - accuracy: 0.9861 - val_loss: 4.6561 - val_accuracy: 0.5536\n",
            "Epoch 25/25\n",
            "203/203 [==============================] - 525s 3s/step - loss: 0.0440 - accuracy: 0.9871 - val_loss: 4.7752 - val_accuracy: 0.5490\n"
          ]
        }
      ]
    },
    {
      "cell_type": "code",
      "source": [
        "[test_loss, test_acc] = model.evaluate(test_images, test_labels)\n",
        "print(\"Evaluation result on Test Data : Loss = {}, accuracy = {}\".format(test_loss, test_acc*100))"
      ],
      "metadata": {
        "colab": {
          "base_uri": "https://localhost:8080/"
        },
        "id": "Ai3n6tvxCBIL",
        "outputId": "d9cbcc2f-582f-4d40-e8dc-61ca8a3d9251"
      },
      "id": "Ai3n6tvxCBIL",
      "execution_count": null,
      "outputs": [
        {
          "output_type": "stream",
          "name": "stdout",
          "text": [
            "91/91 [==============================] - 13s 147ms/step - loss: 4.7752 - accuracy: 0.5490\n",
            "Evaluation result on Test Data : Loss = 4.775172710418701, accuracy = 54.90468144416809\n"
          ]
        }
      ]
    },
    {
      "cell_type": "code",
      "source": [
        "model.save(dataset_path+'model.h5')"
      ],
      "metadata": {
        "id": "hwuZ3S6yq2vo"
      },
      "id": "hwuZ3S6yq2vo",
      "execution_count": null,
      "outputs": []
    },
    {
      "cell_type": "markdown",
      "source": [
        "**Using Transfer Learning**"
      ],
      "metadata": {
        "id": "-3X-gDXlE-RK"
      },
      "id": "-3X-gDXlE-RK"
    },
    {
      "cell_type": "code",
      "source": [
        "seed_value= 0\n",
        "\n",
        "import os\n",
        "os.environ['PYTHONHASHSEED']=str(seed_value)\n",
        "\n",
        "import random\n",
        "random.seed(seed_value)\n",
        "\n",
        "import cv2\n",
        "\n",
        "import numpy as np\n",
        "np.random.seed(seed_value)\n",
        "\n",
        "import tensorflow as tf\n",
        "tf.random.set_seed(seed_value)\n",
        "\n",
        "import matplotlib.pyplot as plt\n",
        "from tensorflow.keras.utils import to_categorical"
      ],
      "metadata": {
        "id": "uS0IL4FCE64Y"
      },
      "id": "uS0IL4FCE64Y",
      "execution_count": 6,
      "outputs": []
    },
    {
      "cell_type": "code",
      "source": [
        "images1 = []\n",
        "labels1 = []"
      ],
      "metadata": {
        "id": "UOJ-R5-lE7e7"
      },
      "id": "UOJ-R5-lE7e7",
      "execution_count": 7,
      "outputs": []
    },
    {
      "cell_type": "code",
      "source": [
        "folders = os.listdir(dataset_path)\n",
        "folders"
      ],
      "metadata": {
        "colab": {
          "base_uri": "https://localhost:8080/"
        },
        "id": "ZE3x6L3eGVdl",
        "outputId": "934bbe34-2073-4a86-9a8b-78cae3d6a312"
      },
      "id": "ZE3x6L3eGVdl",
      "execution_count": 9,
      "outputs": [
        {
          "output_type": "execute_result",
          "data": {
            "text/plain": [
              "['sad', 'angry', 'neutral', 'disgust', 'fear', 'surprise', 'happy', 'model.h5']"
            ]
          },
          "metadata": {},
          "execution_count": 9
        }
      ]
    },
    {
      "cell_type": "code",
      "source": [
        "img_size = 64"
      ],
      "metadata": {
        "id": "0tPIxUNVGf7o"
      },
      "id": "0tPIxUNVGf7o",
      "execution_count": 10,
      "outputs": []
    },
    {
      "cell_type": "code",
      "source": [
        "name_mapping_dict = {'angry':0, 'disgust':1, 'fear':2, 'happy':3, 'neutral':4, 'sad':5, 'surprise':6}\n",
        "inv_name_mapping_dict =  {v: k for k, v in name_mapping_dict.items()}\n",
        "print(inv_name_mapping_dict)"
      ],
      "metadata": {
        "colab": {
          "base_uri": "https://localhost:8080/"
        },
        "id": "a5nBAdaYqtWI",
        "outputId": "d8813639-1e48-410c-f641-15b7a488fe77"
      },
      "id": "a5nBAdaYqtWI",
      "execution_count": 11,
      "outputs": [
        {
          "output_type": "stream",
          "name": "stdout",
          "text": [
            "{0: 'angry', 1: 'disgust', 2: 'fear', 3: 'happy', 4: 'neutral', 5: 'sad', 6: 'surprise'}\n"
          ]
        }
      ]
    },
    {
      "cell_type": "code",
      "source": [
        "for folder in folders:\n",
        "  print(f'Processing folder: {folder}')\n",
        "  if(folder != \"model.h5\"):\n",
        "    filenames = os.listdir(dataset_path+folder+'/')\n",
        "    for fname in filenames:\n",
        "      img = plt.imread(dataset_path+folder+'/'+fname)\n",
        "      img = cv2.resize(img, (img_size, img_size))\n",
        "      images1.append(img)\n",
        "      labels1.append(name_mapping_dict[folder])"
      ],
      "metadata": {
        "colab": {
          "base_uri": "https://localhost:8080/"
        },
        "id": "9oV4dC-3rq2m",
        "outputId": "05880395-3bc9-476f-de0c-e6fa24360e47"
      },
      "id": "9oV4dC-3rq2m",
      "execution_count": 12,
      "outputs": [
        {
          "output_type": "stream",
          "name": "stdout",
          "text": [
            "Processing folder: sad\n",
            "Processing folder: angry\n",
            "Processing folder: neutral\n",
            "Processing folder: disgust\n",
            "Processing folder: fear\n",
            "Processing folder: surprise\n",
            "Processing folder: happy\n",
            "Processing folder: model.h5\n"
          ]
        }
      ]
    },
    {
      "cell_type": "code",
      "source": [
        "def expand_greyscale_image_channels(grey):\n",
        "    grey_image = np.array(grey)\n",
        "    grey_image = np.expand_dims(grey, -1)\n",
        "    grey_image_arr_3_channel = grey_image.repeat(3, axis=-1)\n",
        "    return grey_image_arr_3_channel"
      ],
      "metadata": {
        "id": "vbAffB_dJZMe"
      },
      "id": "vbAffB_dJZMe",
      "execution_count": 13,
      "outputs": []
    },
    {
      "cell_type": "code",
      "source": [
        "images1 = expand_greyscale_image_channels(images1)\n",
        "labels1 = np.array(labels1)"
      ],
      "metadata": {
        "id": "EjPuMZUYr0eQ"
      },
      "id": "EjPuMZUYr0eQ",
      "execution_count": 14,
      "outputs": []
    },
    {
      "cell_type": "code",
      "source": [
        "print('images shape : ', images1.shape)\n",
        "print('labels shape : ', labels1.shape)"
      ],
      "metadata": {
        "colab": {
          "base_uri": "https://localhost:8080/"
        },
        "id": "WlejKGBLr-kA",
        "outputId": "e5898678-ae53-4b90-bb4f-a54f72265a3b"
      },
      "id": "WlejKGBLr-kA",
      "execution_count": 15,
      "outputs": [
        {
          "output_type": "stream",
          "name": "stdout",
          "text": [
            "images shape :  (28847, 64, 64, 3)\n",
            "labels shape :  (28847,)\n"
          ]
        }
      ]
    },
    {
      "cell_type": "code",
      "source": [
        "classes = np.unique(labels1)\n",
        "classes_num = len(classes)\n",
        "print('Total number of outputs : ', classes_num)\n",
        "print('Output classes : ', classes)"
      ],
      "metadata": {
        "colab": {
          "base_uri": "https://localhost:8080/"
        },
        "id": "lOXeWIdLsL77",
        "outputId": "6c7b7676-fc1c-4f7f-9aea-0e2975af970c"
      },
      "id": "lOXeWIdLsL77",
      "execution_count": 16,
      "outputs": [
        {
          "output_type": "stream",
          "name": "stdout",
          "text": [
            "Total number of outputs :  7\n",
            "Output classes :  [0 1 2 3 4 5 6]\n"
          ]
        }
      ]
    },
    {
      "cell_type": "code",
      "source": [
        "images1 = np.array(images1) / 255"
      ],
      "metadata": {
        "id": "hPziiJdxsR0V"
      },
      "id": "hPziiJdxsR0V",
      "execution_count": 17,
      "outputs": []
    },
    {
      "cell_type": "code",
      "source": [
        "labels_one_hot = to_categorical(labels1)"
      ],
      "metadata": {
        "id": "Hho6OTQOsWRM"
      },
      "id": "Hho6OTQOsWRM",
      "execution_count": 18,
      "outputs": []
    },
    {
      "cell_type": "code",
      "source": [
        "# Shuffling and Splittng Dataset\n",
        "from sklearn.model_selection import train_test_split\n",
        "\n",
        "train_images, test_images, train_labels, test_labels = train_test_split(images1, labels_one_hot, test_size=0.20, shuffle=True, random_state=0)\n",
        "\n",
        "\n",
        "print('Training data shape : ', train_images.shape, train_labels.shape)\n",
        "print('Testing data shape : ', test_images.shape, test_labels.shape)"
      ],
      "metadata": {
        "colab": {
          "base_uri": "https://localhost:8080/"
        },
        "id": "T6Kmn5Ihsh5i",
        "outputId": "deb8e510-c004-4f7d-b497-097bc9f1e63b"
      },
      "id": "T6Kmn5Ihsh5i",
      "execution_count": 19,
      "outputs": [
        {
          "output_type": "stream",
          "name": "stdout",
          "text": [
            "Training data shape :  (23077, 64, 64, 3) (23077, 7)\n",
            "Testing data shape :  (5770, 64, 64, 3) (5770, 7)\n"
          ]
        }
      ]
    },
    {
      "cell_type": "code",
      "source": [
        "import keras\n",
        "from keras.models import Sequential\n",
        "from keras.layers import Dense, Flatten\n",
        "\n",
        "\"\"\"\n",
        "Pre-trained model examples are as follows:\n",
        "\n",
        "\n",
        "pretrained_model = tf.keras.applications.MobileNetV2(input_shape=(img_size, img_size, 3), include_top=False)\n",
        "pretrained_model = tf.keras.applications.VGG16(weights='imagenet', include_top=False ,input_shape=(img_size, img_size, 3))\n",
        "pretrained_model = tf.keras.applications.ResNet50(weights='imagenet', include_top=False, input_shape=(img_size, img_size, 3))\n",
        "pretrained_model = tf.keras.applications.MobileNet(weights='imagenet', include_top=False, input_shape=(img_size, img_size, 3))\n",
        "\"\"\"\n",
        "\n",
        "pretrained_model = tf.keras.applications.ResNet50(input_shape=(img_size, img_size, 3), include_top=False)\n",
        "pretrained_model.trainable = False\n",
        "\n",
        "model = Sequential()\n",
        "model.add(pretrained_model)\n",
        "model.add(Flatten())\n",
        "model.add(Dense(classes_num, activation=\"softmax\"))"
      ],
      "metadata": {
        "id": "u992RFUjsq0f",
        "colab": {
          "base_uri": "https://localhost:8080/"
        },
        "outputId": "0e660f14-ffe2-4119-b52c-7b2d47647011"
      },
      "id": "u992RFUjsq0f",
      "execution_count": 21,
      "outputs": [
        {
          "output_type": "stream",
          "name": "stdout",
          "text": [
            "Downloading data from https://storage.googleapis.com/tensorflow/keras-applications/resnet/resnet50_weights_tf_dim_ordering_tf_kernels_notop.h5\n",
            "94773248/94765736 [==============================] - 1s 0us/step\n",
            "94781440/94765736 [==============================] - 1s 0us/step\n"
          ]
        }
      ]
    },
    {
      "cell_type": "code",
      "source": [
        "model.compile(optimizer='adam', loss='categorical_crossentropy', metrics=['accuracy'])"
      ],
      "metadata": {
        "id": "yeuCVtf3P0k0"
      },
      "id": "yeuCVtf3P0k0",
      "execution_count": 22,
      "outputs": []
    },
    {
      "cell_type": "code",
      "source": [
        "history = model.fit(train_images, train_labels, batch_size=32,  epochs=10, verbose=1, \n",
        "                   validation_data=(test_images, test_labels))"
      ],
      "metadata": {
        "colab": {
          "base_uri": "https://localhost:8080/"
        },
        "id": "MSJD8HnUQeGA",
        "outputId": "99a2cfef-c668-4f6d-a481-c2dffcf000a1"
      },
      "id": "MSJD8HnUQeGA",
      "execution_count": 24,
      "outputs": [
        {
          "output_type": "stream",
          "name": "stdout",
          "text": [
            "Epoch 1/10\n",
            "722/722 [==============================] - 432s 599ms/step - loss: 1.6497 - accuracy: 0.3493 - val_loss: 1.6496 - val_accuracy: 0.3610\n",
            "Epoch 2/10\n",
            "722/722 [==============================] - 436s 603ms/step - loss: 1.6497 - accuracy: 0.3470 - val_loss: 1.6488 - val_accuracy: 0.3645\n",
            "Epoch 3/10\n",
            "722/722 [==============================] - 429s 594ms/step - loss: 1.6490 - accuracy: 0.3516 - val_loss: 1.6500 - val_accuracy: 0.3648\n",
            "Epoch 4/10\n",
            "722/722 [==============================] - 439s 609ms/step - loss: 1.6463 - accuracy: 0.3498 - val_loss: 1.6604 - val_accuracy: 0.3402\n",
            "Epoch 5/10\n",
            "722/722 [==============================] - 438s 607ms/step - loss: 1.6425 - accuracy: 0.3516 - val_loss: 1.6962 - val_accuracy: 0.3312\n",
            "Epoch 6/10\n",
            "722/722 [==============================] - 436s 604ms/step - loss: 1.6435 - accuracy: 0.3506 - val_loss: 1.6655 - val_accuracy: 0.3459\n",
            "Epoch 7/10\n",
            "722/722 [==============================] - 445s 617ms/step - loss: 1.6406 - accuracy: 0.3548 - val_loss: 1.6404 - val_accuracy: 0.3685\n",
            "Epoch 8/10\n",
            "722/722 [==============================] - 443s 614ms/step - loss: 1.6328 - accuracy: 0.3554 - val_loss: 1.6396 - val_accuracy: 0.3690\n",
            "Epoch 9/10\n",
            "722/722 [==============================] - 444s 615ms/step - loss: 1.6328 - accuracy: 0.3601 - val_loss: 1.6338 - val_accuracy: 0.3752\n",
            "Epoch 10/10\n",
            "722/722 [==============================] - 439s 608ms/step - loss: 1.6278 - accuracy: 0.3603 - val_loss: 1.6390 - val_accuracy: 0.3669\n"
          ]
        }
      ]
    },
    {
      "cell_type": "code",
      "source": [
        "[test_loss, test_acc] = model.evaluate(test_images, test_labels)\n",
        "print(\"Evaluation result on Test Data : Loss = {}, accuracy = {}%\".format(test_loss, test_acc*100))"
      ],
      "metadata": {
        "colab": {
          "base_uri": "https://localhost:8080/"
        },
        "id": "z7IyAAo5Wh5n",
        "outputId": "4931ae52-c005-4728-ad14-686dc99725a6"
      },
      "id": "z7IyAAo5Wh5n",
      "execution_count": 25,
      "outputs": [
        {
          "output_type": "stream",
          "name": "stdout",
          "text": [
            "181/181 [==============================] - 107s 590ms/step - loss: 1.6390 - accuracy: 0.3669\n",
            "Evaluation result on Test Data : Loss = 1.6389561891555786, accuracy = 36.68977618217468%\n"
          ]
        }
      ]
    },
    {
      "cell_type": "code",
      "source": [
        "[train_loss, train_acc] = model.evaluate(train_images, train_labels)\n",
        "print(\"Evaluation result on train Data : Loss = {}, accuracy = {}%\".format(train_loss, train_acc*100))"
      ],
      "metadata": {
        "colab": {
          "base_uri": "https://localhost:8080/"
        },
        "id": "2Bdb0CpPnbcQ",
        "outputId": "1d221599-bbf2-43e8-da1a-97565c1d5ef5"
      },
      "id": "2Bdb0CpPnbcQ",
      "execution_count": 26,
      "outputs": [
        {
          "output_type": "stream",
          "name": "stdout",
          "text": [
            "722/722 [==============================] - 337s 467ms/step - loss: 1.6177 - accuracy: 0.3678\n",
            "Evaluation result on train Data : Loss = 1.6176656484603882, accuracy = 36.78120970726013%\n"
          ]
        }
      ]
    },
    {
      "cell_type": "code",
      "source": [
        "model.save(dataset_path+'Pre_model.h5')"
      ],
      "metadata": {
        "id": "W_ZkrNEWnkk5"
      },
      "id": "W_ZkrNEWnkk5",
      "execution_count": 27,
      "outputs": []
    },
    {
      "cell_type": "code",
      "source": [
        "def test_single_image(model,test_img_number):\n",
        "\n",
        "  # make prediction\n",
        "  prediction = inv_name_mapping_dict[np.argmax(model.predict(test_images[[test_img_number],:])[0])]\n",
        "  print(\"Model prediction: {}\".format(prediction))\n",
        "\n",
        "  # Display the predicted image\n",
        "  plt.imshow(test_images[test_img_number])\n",
        "  plt.title(\"Ground Truth : {}\".format(inv_name_mapping_dict[np.argmax(test_labels[test_img_number])]))\n",
        "  plt.xticks([])\n",
        "  plt.yticks([])\n",
        "  plt.show()"
      ],
      "metadata": {
        "id": "tDRwHhUJnzIS"
      },
      "id": "tDRwHhUJnzIS",
      "execution_count": 41,
      "outputs": []
    },
    {
      "cell_type": "code",
      "source": [
        "test_single_image(model,8)"
      ],
      "metadata": {
        "colab": {
          "base_uri": "https://localhost:8080/",
          "height": 285
        },
        "id": "8yLMgDxZn3P-",
        "outputId": "c10f8942-3586-441d-b0ae-7c7dfd446f3e"
      },
      "id": "8yLMgDxZn3P-",
      "execution_count": 42,
      "outputs": [
        {
          "output_type": "stream",
          "name": "stdout",
          "text": [
            "Model prediction: sad\n"
          ]
        },
        {
          "output_type": "display_data",
          "data": {
            "text/plain": [
              "<Figure size 432x288 with 1 Axes>"
            ],
            "image/png": "[encoded data removed]"
          },
          "metadata": {}
        }
      ]
    },
    {
      "cell_type": "code",
      "source": [
        "test_single_image(model,97)"
      ],
      "metadata": {
        "colab": {
          "base_uri": "https://localhost:8080/",
          "height": 285
        },
        "id": "rFIWacNkposx",
        "outputId": "9ee370fc-cfac-46d8-dd9a-a13df714807e"
      },
      "id": "rFIWacNkposx",
      "execution_count": 43,
      "outputs": [
        {
          "output_type": "stream",
          "name": "stdout",
          "text": [
            "Model prediction: happy\n"
          ]
        },
        {
          "output_type": "display_data",
          "data": {
            "text/plain": [
              "<Figure size 432x288 with 1 Axes>"
            ],
            "image/png": "[encoded data removed]"
          },
          "metadata": {}
        }
      ]
    },
    {
      "cell_type": "code",
      "source": [
        "test_single_image(model,334)"
      ],
      "metadata": {
        "colab": {
          "base_uri": "https://localhost:8080/",
          "height": 285
        },
        "id": "jOLAZ-odq1Ka",
        "outputId": "90d9f137-aee3-4795-9938-96d3e02d221a"
      },
      "id": "jOLAZ-odq1Ka",
      "execution_count": 49,
      "outputs": [
        {
          "output_type": "stream",
          "name": "stdout",
          "text": [
            "Model prediction: happy\n"
          ]
        },
        {
          "output_type": "display_data",
          "data": {
            "text/plain": [
              "<Figure size 432x288 with 1 Axes>"
            ],
            "image/png": "[encoded data removed]"
          },
          "metadata": {}
        }
      ]
    },
    {
      "cell_type": "code",
      "source": [
        "test_single_image(model,454)"
      ],
      "metadata": {
        "colab": {
          "base_uri": "https://localhost:8080/",
          "height": 285
        },
        "id": "40GF-cXQq3EX",
        "outputId": "c505ac96-a130-4c54-a473-29f62ba35d55"
      },
      "id": "40GF-cXQq3EX",
      "execution_count": 50,
      "outputs": [
        {
          "output_type": "stream",
          "name": "stdout",
          "text": [
            "Model prediction: happy\n"
          ]
        },
        {
          "output_type": "display_data",
          "data": {
            "text/plain": [
              "<Figure size 432x288 with 1 Axes>"
            ],
            "image/png": "[encoded data removed]"
          },
          "metadata": {}
        }
      ]
    },
    {
      "cell_type": "code",
      "source": [
        "test_single_image(model,1954)"
      ],
      "metadata": {
        "colab": {
          "base_uri": "https://localhost:8080/",
          "height": 285
        },
        "id": "549JVaNhq-vo",
        "outputId": "6063a38a-f2de-4aa0-cd16-8c122f812b3a"
      },
      "id": "549JVaNhq-vo",
      "execution_count": 51,
      "outputs": [
        {
          "output_type": "stream",
          "name": "stdout",
          "text": [
            "Model prediction: fear\n"
          ]
        },
        {
          "output_type": "display_data",
          "data": {
            "text/plain": [
              "<Figure size 432x288 with 1 Axes>"
            ],
            "image/png": "[encoded data removed]"
          },
          "metadata": {}
        }
      ]
    },
    {
      "cell_type": "code",
      "source": [
        "test_single_image(model,1600)"
      ],
      "metadata": {
        "colab": {
          "base_uri": "https://localhost:8080/",
          "height": 285
        },
        "id": "WG6GenLErCfW",
        "outputId": "f276793d-adba-4607-8bb1-d10f579a54ee"
      },
      "id": "WG6GenLErCfW",
      "execution_count": 53,
      "outputs": [
        {
          "output_type": "stream",
          "name": "stdout",
          "text": [
            "Model prediction: happy\n"
          ]
        },
        {
          "output_type": "display_data",
          "data": {
            "text/plain": [
              "<Figure size 432x288 with 1 Axes>"
            ],
            "image/png": "[encoded data removed]"
          },
          "metadata": {}
        }
      ]
    },
    {
      "cell_type": "code",
      "source": [
        "test_single_image(model,4567)"
      ],
      "metadata": {
        "colab": {
          "base_uri": "https://localhost:8080/",
          "height": 285
        },
        "id": "2KfW5lDbrGbp",
        "outputId": "33f26a75-cd30-4021-f1d1-654490247736"
      },
      "id": "2KfW5lDbrGbp",
      "execution_count": 55,
      "outputs": [
        {
          "output_type": "stream",
          "name": "stdout",
          "text": [
            "Model prediction: happy\n"
          ]
        },
        {
          "output_type": "display_data",
          "data": {
            "text/plain": [
              "<Figure size 432x288 with 1 Axes>"
            ],
            "image/png": "[encoded data removed]"
          },
          "metadata": {}
        }
      ]
    },
    {
      "cell_type": "code",
      "source": [
        "test_single_image(model,4092)"
      ],
      "metadata": {
        "colab": {
          "base_uri": "https://localhost:8080/",
          "height": 285
        },
        "id": "JUvIvpFFrMH_",
        "outputId": "b1fa87fd-1657-47c7-fbc3-6f5ee27c044b"
      },
      "id": "JUvIvpFFrMH_",
      "execution_count": 65,
      "outputs": [
        {
          "output_type": "stream",
          "name": "stdout",
          "text": [
            "Model prediction: surprise\n"
          ]
        },
        {
          "output_type": "display_data",
          "data": {
            "text/plain": [
              "<Figure size 432x288 with 1 Axes>"
            ],
            "image/png": "[encoded data removed]"
          },
          "metadata": {}
        }
      ]
    },
    {
      "cell_type": "code",
      "source": [
        ""
      ],
      "metadata": {
        "id": "Gr3TlsMbrQXq"
      },
      "id": "Gr3TlsMbrQXq",
      "execution_count": null,
      "outputs": []
    }
  ],
  "metadata": {
    "kernelspec": {
      "display_name": "Python 3 (ipykernel)",
      "language": "python",
      "name": "python3"
    },
    "language_info": {
      "codemirror_mode": {
        "name": "ipython",
        "version": 3
      },
      "file_extension": ".py",
      "mimetype": "text/x-python",
      "name": "python",
      "nbconvert_exporter": "python",
      "pygments_lexer": "ipython3",
      "version": "3.9.7"
    },
    "colab": {
      "name": "CNN.ipynb",
      "provenance": [],
      "collapsed_sections": [],
      "include_colab_link": true
    }
  },
  "nbformat": 4,
  "nbformat_minor": 5
}